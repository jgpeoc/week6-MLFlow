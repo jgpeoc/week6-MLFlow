{
 "cells": [
  {
   "cell_type": "code",
   "execution_count": 1,
   "metadata": {},
   "outputs": [
    {
     "name": "stderr",
     "output_type": "stream",
     "text": [
      "/Users/jolascua/opt/anaconda3/envs/mlops-course/lib/python3.8/site-packages/tritonhttpclient/__init__.py:31: DeprecationWarning: The package `tritonhttpclient` is deprecated and will be removed in a future version. Please use instead `tritonclient.http`\n",
      "  warnings.warn(\n"
     ]
    }
   ],
   "source": [
    "import tritonhttpclient\n",
    "import numpy as np\n",
    "import cv2"
   ]
  },
  {
   "cell_type": "code",
   "execution_count": 2,
   "metadata": {},
   "outputs": [],
   "source": [
    "url='44.204.91.203:8000'\n",
    "triton_client = tritonhttpclient.InferenceServerClient(url=url, verbose=False)"
   ]
  },
  {
   "cell_type": "code",
   "execution_count": 3,
   "metadata": {},
   "outputs": [
    {
     "name": "stderr",
     "output_type": "stream",
     "text": [
      "[ WARN:0@9.352] global /Users/runner/work/opencv-python/opencv-python/opencv/modules/imgcodecs/src/loadsave.cpp (239) findDecoder imread_('/Users/camilosanta/Downloads/baby.jpeg'): can't open/read file: check file path/integrity\n"
     ]
    },
    {
     "ename": "TypeError",
     "evalue": "'NoneType' object is not subscriptable",
     "output_type": "error",
     "traceback": [
      "\u001b[0;31m---------------------------------------------------------------------------\u001b[0m",
      "\u001b[0;31mTypeError\u001b[0m                                 Traceback (most recent call last)",
      "Cell \u001b[0;32mIn [3], line 2\u001b[0m\n\u001b[1;32m      1\u001b[0m img\u001b[38;5;241m=\u001b[39mcv2\u001b[38;5;241m.\u001b[39mimread(\u001b[38;5;124m'\u001b[39m\u001b[38;5;124m/Users/camilosanta/Downloads/baby.jpeg\u001b[39m\u001b[38;5;124m'\u001b[39m)\n\u001b[0;32m----> 2\u001b[0m face\u001b[38;5;241m=\u001b[39m\u001b[43mimg\u001b[49m\u001b[43m[\u001b[49m\u001b[38;5;241;43m50\u001b[39;49m\u001b[43m:\u001b[49m\u001b[38;5;241;43m170\u001b[39;49m\u001b[43m,\u001b[49m\u001b[38;5;241;43m120\u001b[39;49m\u001b[43m:\u001b[49m\u001b[38;5;241;43m240\u001b[39;49m\u001b[43m]\u001b[49m\n\u001b[1;32m      3\u001b[0m face\u001b[38;5;241m=\u001b[39mcv2\u001b[38;5;241m.\u001b[39mresize(face,(\u001b[38;5;241m48\u001b[39m,\u001b[38;5;241m48\u001b[39m))\n\u001b[1;32m      4\u001b[0m gray \u001b[38;5;241m=\u001b[39m cv2\u001b[38;5;241m.\u001b[39mcvtColor(face, cv2\u001b[38;5;241m.\u001b[39mCOLOR_BGR2GRAY)\u001b[38;5;241m.\u001b[39mastype(np\u001b[38;5;241m.\u001b[39mfloat32)\n",
      "\u001b[0;31mTypeError\u001b[0m: 'NoneType' object is not subscriptable"
     ]
    }
   ],
   "source": [
    "img=cv2.imread('/Users/camilosanta/Downloads/baby.jpeg')\n",
    "face=img[50:170,120:240]\n",
    "face=cv2.resize(face,(48,48))\n",
    "gray = cv2.cvtColor(face, cv2.COLOR_BGR2GRAY).astype(np.float32)\n",
    "gray=gray[np.newaxis,:,:,np.newaxis]\n",
    "img=cv2.resize(img,(513,513))\n",
    "img=img[np.newaxis,:,:,:]\n",
    "img.shape,face.shape,gray.shape"
   ]
  },
  {
   "cell_type": "code",
   "execution_count": 22,
   "metadata": {},
   "outputs": [
    {
     "data": {
      "text/plain": [
       "array([[0., 0., 0., 0., 0., 0., 1.]], dtype=float32)"
      ]
     },
     "execution_count": 22,
     "metadata": {},
     "output_type": "execute_result"
    }
   ],
   "source": [
    "input_name='conv2d_8_input'\n",
    "output_name = 'dense_5'\n",
    "model_name='face-emotion'\n",
    "model_version='1'\n",
    "input0 = tritonhttpclient.InferInput(input_name, (1, 48,48,1), 'FP32')\n",
    "input0.set_data_from_numpy(gray, binary_data=False)\n",
    "output = tritonhttpclient.InferRequestedOutput(output_name, binary_data=False)\n",
    "response = triton_client.infer(model_name,model_version=model_version,inputs=[input0],outputs=[output])\n",
    "logits = response.as_numpy(output_name)\n",
    "logits"
   ]
  },
  {
   "cell_type": "code",
   "execution_count": 7,
   "metadata": {},
   "outputs": [
    {
     "data": {
      "text/plain": [
       "(1, 513, 513, 21)"
      ]
     },
     "execution_count": 7,
     "metadata": {},
     "output_type": "execute_result"
    }
   ],
   "source": [
    "input_name='ImageTensor'\n",
    "output_name = 'ResizeBilinear_3'\n",
    "model_name='face-bokeh'\n",
    "model_version='1'\n",
    "input0 = tritonhttpclient.InferInput(input_name, (1,513,513,3), 'UINT8')\n",
    "input0.set_data_from_numpy(img, binary_data=False)\n",
    "output = tritonhttpclient.InferRequestedOutput(output_name, binary_data=False)\n",
    "response = triton_client.infer(model_name,model_version=model_version,inputs=[input0],outputs=[output])\n",
    "segmap = response.as_numpy(output_name)\n",
    "segmap.shape"
   ]
  },
  {
   "cell_type": "code",
   "execution_count": null,
   "metadata": {},
   "outputs": [],
   "source": []
  }
 ],
 "metadata": {
  "interpreter": {
   "hash": "7f1f369d1188ce4b94be9c5bad5731b69c72d0d95e96ba4e723c30ffbf605d17"
  },
  "kernelspec": {
   "display_name": "Python 3.8.13 ('mlops-course')",
   "language": "python",
   "name": "python3"
  },
  "language_info": {
   "codemirror_mode": {
    "name": "ipython",
    "version": 3
   },
   "file_extension": ".py",
   "mimetype": "text/x-python",
   "name": "python",
   "nbconvert_exporter": "python",
   "pygments_lexer": "ipython3",
   "version": "3.8.13"
  }
 },
 "nbformat": 4,
 "nbformat_minor": 4
}
